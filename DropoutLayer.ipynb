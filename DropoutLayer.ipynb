{
  "nbformat": 4,
  "nbformat_minor": 0,
  "metadata": {
    "colab": {
      "name": "DropoutLayer.ipynb",
      "provenance": [],
      "authorship_tag": "ABX9TyOeE/y0+YjBE2/oaJD9Ga8y",
      "include_colab_link": true
    },
    "kernelspec": {
      "name": "python3",
      "display_name": "Python 3"
    },
    "language_info": {
      "name": "python"
    }
  },
  "cells": [
    {
      "cell_type": "markdown",
      "metadata": {
        "id": "view-in-github",
        "colab_type": "text"
      },
      "source": [
        "<a href=\"https://colab.research.google.com/github/sujayrittikar/DeepLearning/blob/master/DropoutLayer.ipynb\" target=\"_parent\"><img src=\"https://colab.research.google.com/assets/colab-badge.svg\" alt=\"Open In Colab\"/></a>"
      ]
    },
    {
      "cell_type": "code",
      "metadata": {
        "id": "W4OBhvUGd9WS"
      },
      "source": [
        "import tensorflow as tf"
      ],
      "execution_count": 1,
      "outputs": []
    },
    {
      "cell_type": "code",
      "metadata": {
        "id": "tZZklsWOeLmi"
      },
      "source": [
        "mnist = tf.keras.datasets.mnist"
      ],
      "execution_count": 2,
      "outputs": []
    },
    {
      "cell_type": "code",
      "metadata": {
        "colab": {
          "base_uri": "https://localhost:8080/"
        },
        "id": "S7YMoVdOeqy3",
        "outputId": "44e8d213-a94a-47b8-ae67-363fbb54a567"
      },
      "source": [
        "(x_train, Y_train), (x_test, Y_test) = mnist.load_data()"
      ],
      "execution_count": 3,
      "outputs": [
        {
          "output_type": "stream",
          "name": "stdout",
          "text": [
            "Downloading data from https://storage.googleapis.com/tensorflow/tf-keras-datasets/mnist.npz\n",
            "11493376/11490434 [==============================] - 0s 0us/step\n",
            "11501568/11490434 [==============================] - 0s 0us/step\n"
          ]
        }
      ]
    },
    {
      "cell_type": "code",
      "metadata": {
        "colab": {
          "base_uri": "https://localhost:8080/",
          "height": 282
        },
        "id": "jQMdyxoDevC5",
        "outputId": "bace963e-1892-431b-a911-c5db1029fc60"
      },
      "source": [
        "import matplotlib.pyplot as plt\n",
        "plt.imshow(x_train[0])"
      ],
      "execution_count": 4,
      "outputs": [
        {
          "output_type": "execute_result",
          "data": {
            "text/plain": [
              "<matplotlib.image.AxesImage at 0x7fb04a8f9610>"
            ]
          },
          "metadata": {},
          "execution_count": 4
        },
        {
          "output_type": "display_data",
          "data": {
            "image/png": "[encoded data removed]",
            "text/plain": [
              "<Figure size 432x288 with 1 Axes>"
            ]
          },
          "metadata": {
            "needs_background": "light"
          }
        }
      ]
    },
    {
      "cell_type": "code",
      "metadata": {
        "colab": {
          "base_uri": "https://localhost:8080/"
        },
        "id": "cRuug-Vxfxxq",
        "outputId": "640b9443-57de-4b49-b315-ef0ce3e0aaf7"
      },
      "source": [
        "print(\"x train shape: \", x_train.shape)\n",
        "print(\"Y train shape: \", Y_train.shape)\n",
        "print(\"x test shape: \", x_test.shape)\n",
        "print(\"Y test shape: \", Y_test.shape)"
      ],
      "execution_count": 5,
      "outputs": [
        {
          "output_type": "stream",
          "name": "stdout",
          "text": [
            "x train shape:  (60000, 28, 28)\n",
            "Y train shape:  (60000,)\n",
            "x test shape:  (10000, 28, 28)\n",
            "Y test shape:  (10000,)\n"
          ]
        }
      ]
    },
    {
      "cell_type": "code",
      "metadata": {
        "id": "FW7412BrezLO"
      },
      "source": [
        "# Scaling x values\n",
        "x_train = x_train/255.0\n",
        "x_test = x_test/255.0"
      ],
      "execution_count": 6,
      "outputs": []
    },
    {
      "cell_type": "code",
      "metadata": {
        "id": "MIbeVKXde-GC"
      },
      "source": [
        "# Transforming x to represent 1D vectors for individual images\n",
        "x_train = x_train.reshape((60000, 784))\n",
        "x_test = x_test.reshape((10000, 784))"
      ],
      "execution_count": 7,
      "outputs": []
    },
    {
      "cell_type": "code",
      "metadata": {
        "id": "FGh4ZBLegCHV"
      },
      "source": [
        "# Getting y one-hot encoded\n",
        "Y_train = tf.keras.utils.to_categorical(Y_train)\n",
        "Y_test = tf.keras.utils.to_categorical(Y_test)"
      ],
      "execution_count": 8,
      "outputs": []
    },
    {
      "cell_type": "code",
      "metadata": {
        "colab": {
          "base_uri": "https://localhost:8080/"
        },
        "id": "P-1hMjNkgVb4",
        "outputId": "b0cd3542-3099-4916-8b07-521dc8aeadc2"
      },
      "source": [
        "# Building the deep neural network model with dropout layers\n",
        "model = tf.keras.models.Sequential()\n",
        "model.add(tf.keras.layers.InputLayer(input_shape=(784, )))\n",
        "model.add(tf.keras.layers.Dense(128, activation=\"relu\"))\n",
        "model.add(tf.keras.layers.Dropout(0.2))\n",
        "model.add(tf.keras.layers.Dense(64, activation=\"relu\"))\n",
        "model.add(tf.keras.layers.Dropout(0.2))\n",
        "model.add(tf.keras.layers.Dense(10, activation=\"softmax\"))\n",
        "model.summary()"
      ],
      "execution_count": 9,
      "outputs": [
        {
          "output_type": "stream",
          "name": "stdout",
          "text": [
            "Model: \"sequential\"\n",
            "_________________________________________________________________\n",
            "Layer (type)                 Output Shape              Param #   \n",
            "=================================================================\n",
            "dense (Dense)                (None, 128)               100480    \n",
            "_________________________________________________________________\n",
            "dropout (Dropout)            (None, 128)               0         \n",
            "_________________________________________________________________\n",
            "dense_1 (Dense)              (None, 64)                8256      \n",
            "_________________________________________________________________\n",
            "dropout_1 (Dropout)          (None, 64)                0         \n",
            "_________________________________________________________________\n",
            "dense_2 (Dense)              (None, 10)                650       \n",
            "=================================================================\n",
            "Total params: 109,386\n",
            "Trainable params: 109,386\n",
            "Non-trainable params: 0\n",
            "_________________________________________________________________\n"
          ]
        }
      ]
    },
    {
      "cell_type": "code",
      "metadata": {
        "id": "u2jNXqCIh_Xy"
      },
      "source": [
        "model.compile(optimizer=\"sgd\", loss=tf.keras.losses.categorical_crossentropy, metrics=['acc'])"
      ],
      "execution_count": 10,
      "outputs": []
    },
    {
      "cell_type": "code",
      "metadata": {
        "colab": {
          "base_uri": "https://localhost:8080/"
        },
        "id": "PZJQR_jZiUyL",
        "outputId": "8b9b34f0-94e3-43e8-bb4b-528a2f56dc7f"
      },
      "source": [
        "fitted = model.fit(x=x_train, y=Y_train, batch_size=10, epochs=10, validation_split=0.25)"
      ],
      "execution_count": 11,
      "outputs": [
        {
          "output_type": "stream",
          "name": "stdout",
          "text": [
            "Epoch 1/10\n",
            "4500/4500 [==============================] - 12s 3ms/step - loss: 0.6105 - acc: 0.8117 - val_loss: 0.2538 - val_acc: 0.9257\n",
            "Epoch 2/10\n",
            "4500/4500 [==============================] - 10s 2ms/step - loss: 0.2973 - acc: 0.9128 - val_loss: 0.1852 - val_acc: 0.9446\n",
            "Epoch 3/10\n",
            "4500/4500 [==============================] - 11s 2ms/step - loss: 0.2285 - acc: 0.9320 - val_loss: 0.1573 - val_acc: 0.9529\n",
            "Epoch 4/10\n",
            "4500/4500 [==============================] - 10s 2ms/step - loss: 0.1935 - acc: 0.9434 - val_loss: 0.1361 - val_acc: 0.9591\n",
            "Epoch 5/10\n",
            "4500/4500 [==============================] - 10s 2ms/step - loss: 0.1701 - acc: 0.9500 - val_loss: 0.1253 - val_acc: 0.9625\n",
            "Epoch 6/10\n",
            "4500/4500 [==============================] - 9s 2ms/step - loss: 0.1533 - acc: 0.9547 - val_loss: 0.1174 - val_acc: 0.9657\n",
            "Epoch 7/10\n",
            "4500/4500 [==============================] - 10s 2ms/step - loss: 0.1366 - acc: 0.9595 - val_loss: 0.1090 - val_acc: 0.9681\n",
            "Epoch 8/10\n",
            "4500/4500 [==============================] - 10s 2ms/step - loss: 0.1273 - acc: 0.9621 - val_loss: 0.1037 - val_acc: 0.9700\n",
            "Epoch 9/10\n",
            "4500/4500 [==============================] - 10s 2ms/step - loss: 0.1190 - acc: 0.9645 - val_loss: 0.0999 - val_acc: 0.9711\n",
            "Epoch 10/10\n",
            "4500/4500 [==============================] - 10s 2ms/step - loss: 0.1098 - acc: 0.9677 - val_loss: 0.0979 - val_acc: 0.9716\n"
          ]
        }
      ]
    },
    {
      "cell_type": "code",
      "metadata": {
        "id": "Oe2dUReFjcZ7"
      },
      "source": [
        "predictions = model.predict(x_test)"
      ],
      "execution_count": 12,
      "outputs": []
    },
    {
      "cell_type": "code",
      "metadata": {
        "colab": {
          "base_uri": "https://localhost:8080/"
        },
        "id": "By74wSSIkCj_",
        "outputId": "c1756726-1f2c-43d2-b491-bd6f739ac33d"
      },
      "source": [
        "model.evaluate(x=x_test, y=Y_test, batch_size=10)"
      ],
      "execution_count": 13,
      "outputs": [
        {
          "output_type": "stream",
          "name": "stdout",
          "text": [
            "1000/1000 [==============================] - 1s 1ms/step - loss: 0.0865 - acc: 0.9742\n"
          ]
        },
        {
          "output_type": "execute_result",
          "data": {
            "text/plain": [
              "[0.0865379124879837, 0.9742000102996826]"
            ]
          },
          "metadata": {},
          "execution_count": 13
        }
      ]
    },
    {
      "cell_type": "code",
      "metadata": {
        "id": "OUYFLK7mkKW5",
        "colab": {
          "base_uri": "https://localhost:8080/",
          "height": 295
        },
        "outputId": "cd5d5ccb-b9d9-48a7-971b-1b5b4be8fe15"
      },
      "source": [
        "plt.plot(fitted.history['acc'])\n",
        "plt.plot(fitted.history['val_acc'])\n",
        "plt.xlabel(\"Epochs\")\n",
        "plt.ylabel(\"Accuracy\")\n",
        "plt.title(\"Accuracy of the model\")\n",
        "plt.legend([\"Train\", \"Test\"])\n",
        "plt.show()"
      ],
      "execution_count": 14,
      "outputs": [
        {
          "output_type": "display_data",
          "data": {
            "image/png": "[encoded data removed]",
            "text/plain": [
              "<Figure size 432x288 with 1 Axes>"
            ]
          },
          "metadata": {
            "needs_background": "light"
          }
        }
      ]
    },
    {
      "cell_type": "code",
      "metadata": {
        "colab": {
          "base_uri": "https://localhost:8080/",
          "height": 295
        },
        "id": "J3cRNXwHDq1u",
        "outputId": "936e7128-2748-4549-e697-993a9e4b2408"
      },
      "source": [
        "plt.plot(fitted.history['loss'])\n",
        "plt.plot(fitted.history['val_loss'])\n",
        "plt.xlabel(\"Epochs\")\n",
        "plt.ylabel(\"Loss\")\n",
        "plt.title(\"Loss of the model\")\n",
        "plt.legend([\"Train\", \"Test\"])\n",
        "plt.show()"
      ],
      "execution_count": 15,
      "outputs": [
        {
          "output_type": "display_data",
          "data": {
            "image/png": "[encoded data removed]",
            "text/plain": [
              "<Figure size 432x288 with 1 Axes>"
            ]
          },
          "metadata": {
            "needs_background": "light"
          }
        }
      ]
    }
  ]
}