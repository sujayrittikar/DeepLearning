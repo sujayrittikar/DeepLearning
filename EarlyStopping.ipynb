{
  "nbformat": 4,
  "nbformat_minor": 0,
  "metadata": {
    "colab": {
      "name": "EarlyStopping.ipynb",
      "provenance": [],
      "authorship_tag": "ABX9TyOtSKquQp43YbYx0PWEzE5H",
      "include_colab_link": true
    },
    "kernelspec": {
      "name": "python3",
      "display_name": "Python 3"
    },
    "language_info": {
      "name": "python"
    }
  },
  "cells": [
    {
      "cell_type": "markdown",
      "metadata": {
        "id": "view-in-github",
        "colab_type": "text"
      },
      "source": [
        "<a href=\"https://colab.research.google.com/github/sujayrittikar/DeepLearning/blob/master/EarlyStopping.ipynb\" target=\"_parent\"><img src=\"https://colab.research.google.com/assets/colab-badge.svg\" alt=\"Open In Colab\"/></a>"
      ]
    },
    {
      "cell_type": "code",
      "metadata": {
        "id": "avSx3Faw8yMx"
      },
      "source": [
        "import tensorflow as tf"
      ],
      "execution_count": null,
      "outputs": []
    },
    {
      "cell_type": "code",
      "metadata": {
        "id": "yWIC88xe84gI"
      },
      "source": [
        "mnist = tf.keras.datasets.mnist"
      ],
      "execution_count": null,
      "outputs": []
    },
    {
      "cell_type": "code",
      "metadata": {
        "colab": {
          "base_uri": "https://localhost:8080/"
        },
        "id": "Q41c7AQI88vy",
        "outputId": "28d06d3f-a01d-4269-d72c-24b9ecf8b805"
      },
      "source": [
        "(x_train, Y_train), (x_test, Y_test) = mnist.load_data()"
      ],
      "execution_count": null,
      "outputs": [
        {
          "output_type": "stream",
          "name": "stdout",
          "text": [
            "Downloading data from https://storage.googleapis.com/tensorflow/tf-keras-datasets/mnist.npz\n",
            "11493376/11490434 [==============================] - 0s 0us/step\n",
            "11501568/11490434 [==============================] - 0s 0us/step\n"
          ]
        }
      ]
    },
    {
      "cell_type": "code",
      "metadata": {
        "id": "SBhCYK0D9B4P"
      },
      "source": [
        "x_train = x_train/255.0\n",
        "x_test = x_test/255.0\n",
        "x_train = x_train.reshape((60000, 784))\n",
        "x_test = x_test.reshape((10000, 784))"
      ],
      "execution_count": null,
      "outputs": []
    },
    {
      "cell_type": "code",
      "metadata": {
        "id": "5POW45NW9PbO"
      },
      "source": [
        "Y_train = tf.keras.utils.to_categorical(Y_train)\n",
        "Y_test = tf.keras.utils.to_categorical(Y_test)"
      ],
      "execution_count": null,
      "outputs": []
    },
    {
      "cell_type": "code",
      "metadata": {
        "colab": {
          "base_uri": "https://localhost:8080/"
        },
        "id": "-_tvufUL9YSq",
        "outputId": "b9a02d51-da1d-4def-cd08-790e1c3325d5"
      },
      "source": [
        "model = tf.keras.models.Sequential()\n",
        "model.add(tf.keras.layers.InputLayer(input_shape=(784, )))\n",
        "model.add(tf.keras.layers.Dense(128, activation=\"relu\"))\n",
        "model.add(tf.keras.layers.Dense(64, activation=\"relu\"))\n",
        "model.add(tf.keras.layers.Dense(32, activation=\"relu\"))\n",
        "model.add(tf.keras.layers.Dense(10, activation=\"softmax\"))\n",
        "model.summary()"
      ],
      "execution_count": null,
      "outputs": [
        {
          "output_type": "stream",
          "name": "stdout",
          "text": [
            "Model: \"sequential\"\n",
            "_________________________________________________________________\n",
            "Layer (type)                 Output Shape              Param #   \n",
            "=================================================================\n",
            "dense (Dense)                (None, 128)               100480    \n",
            "_________________________________________________________________\n",
            "dense_1 (Dense)              (None, 64)                8256      \n",
            "_________________________________________________________________\n",
            "dense_2 (Dense)              (None, 32)                2080      \n",
            "_________________________________________________________________\n",
            "dense_3 (Dense)              (None, 10)                330       \n",
            "=================================================================\n",
            "Total params: 111,146\n",
            "Trainable params: 111,146\n",
            "Non-trainable params: 0\n",
            "_________________________________________________________________\n"
          ]
        }
      ]
    },
    {
      "cell_type": "code",
      "metadata": {
        "id": "Eju2lWjw_Rna"
      },
      "source": [
        "model.compile(optimizer=\"sgd\", loss=tf.keras.losses.categorical_crossentropy, metrics=['acc'])"
      ],
      "execution_count": null,
      "outputs": []
    },
    {
      "cell_type": "code",
      "metadata": {
        "id": "0Fb9XT3i_Yyj"
      },
      "source": [
        "es = tf.keras.callbacks.EarlyStopping(monitor=\"val_loss\", mode=\"min\", verbose=1, patience=200)"
      ],
      "execution_count": null,
      "outputs": []
    },
    {
      "cell_type": "code",
      "metadata": {
        "colab": {
          "base_uri": "https://localhost:8080/"
        },
        "id": "OwIQkK97_pLh",
        "outputId": "6150eda6-8e99-4cfa-877f-bfcb66f0caae"
      },
      "source": [
        "fitted = model.fit(x_train, Y_train, batch_size=10, epochs=10, validation_split=0.25, callbacks=[es])"
      ],
      "execution_count": null,
      "outputs": [
        {
          "output_type": "stream",
          "name": "stdout",
          "text": [
            "Epoch 1/10\n",
            "4500/4500 [==============================] - 11s 2ms/step - loss: 0.4720 - acc: 0.8594 - val_loss: 0.2530 - val_acc: 0.9249\n",
            "Epoch 2/10\n",
            "4500/4500 [==============================] - 11s 2ms/step - loss: 0.2031 - acc: 0.9395 - val_loss: 0.1743 - val_acc: 0.9477\n",
            "Epoch 3/10\n",
            "4500/4500 [==============================] - 10s 2ms/step - loss: 0.1459 - acc: 0.9569 - val_loss: 0.1586 - val_acc: 0.9535\n",
            "Epoch 4/10\n",
            "4500/4500 [==============================] - 10s 2ms/step - loss: 0.1139 - acc: 0.9658 - val_loss: 0.1264 - val_acc: 0.9637\n",
            "Epoch 5/10\n",
            "4500/4500 [==============================] - 10s 2ms/step - loss: 0.0933 - acc: 0.9723 - val_loss: 0.1186 - val_acc: 0.9658\n",
            "Epoch 6/10\n",
            "4500/4500 [==============================] - 11s 2ms/step - loss: 0.0770 - acc: 0.9771 - val_loss: 0.1370 - val_acc: 0.9595\n",
            "Epoch 7/10\n",
            "4500/4500 [==============================] - 9s 2ms/step - loss: 0.0660 - acc: 0.9803 - val_loss: 0.1097 - val_acc: 0.9690\n",
            "Epoch 8/10\n",
            "4500/4500 [==============================] - 10s 2ms/step - loss: 0.0553 - acc: 0.9835 - val_loss: 0.1246 - val_acc: 0.9639\n",
            "Epoch 9/10\n",
            "4500/4500 [==============================] - 10s 2ms/step - loss: 0.0478 - acc: 0.9848 - val_loss: 0.1087 - val_acc: 0.9689\n",
            "Epoch 10/10\n",
            "4500/4500 [==============================] - 9s 2ms/step - loss: 0.0402 - acc: 0.9881 - val_loss: 0.1035 - val_acc: 0.9731\n"
          ]
        }
      ]
    },
    {
      "cell_type": "code",
      "metadata": {
        "colab": {
          "base_uri": "https://localhost:8080/"
        },
        "id": "c47ROEF8_zm-",
        "outputId": "a5c4d7b3-e916-4eb5-b479-e0fe502ef8de"
      },
      "source": [
        "model.evaluate(x_test, Y_test)"
      ],
      "execution_count": null,
      "outputs": [
        {
          "output_type": "stream",
          "name": "stdout",
          "text": [
            "313/313 [==============================] - 1s 2ms/step - loss: 0.0873 - acc: 0.9737\n"
          ]
        },
        {
          "output_type": "execute_result",
          "data": {
            "text/plain": [
              "[0.08727212250232697, 0.9736999869346619]"
            ]
          },
          "metadata": {},
          "execution_count": 10
        }
      ]
    },
    {
      "cell_type": "code",
      "metadata": {
        "colab": {
          "base_uri": "https://localhost:8080/",
          "height": 282
        },
        "id": "U9HK2f4rB407",
        "outputId": "47426461-84bc-4982-cec5-7e2d17326e22"
      },
      "source": [
        "import matplotlib.pyplot as plt\n",
        "plt.plot(fitted.history['acc'])\n",
        "plt.plot(fitted.history['val_acc'])"
      ],
      "execution_count": null,
      "outputs": [
        {
          "output_type": "execute_result",
          "data": {
            "text/plain": [
              "[<matplotlib.lines.Line2D at 0x7f1775ab61d0>]"
            ]
          },
          "metadata": {},
          "execution_count": 12
        },
        {
          "output_type": "display_data",
          "data": {
            "image/png": "[encoded data removed]",
            "text/plain": [
              "<Figure size 432x288 with 1 Axes>"
            ]
          },
          "metadata": {
            "needs_background": "light"
          }
        }
      ]
    },
    {
      "cell_type": "code",
      "metadata": {
        "id": "EKPjajOVD9Qe"
      },
      "source": [
        ""
      ],
      "execution_count": null,
      "outputs": []
    }
  ]
}