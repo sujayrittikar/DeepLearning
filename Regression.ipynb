{
  "nbformat": 4,
  "nbformat_minor": 0,
  "metadata": {
    "colab": {
      "name": "Regression.ipynb",
      "provenance": [],
      "authorship_tag": "ABX9TyNrG5IChK0xhr1a3lSiRlaF",
      "include_colab_link": true
    },
    "kernelspec": {
      "name": "python3",
      "display_name": "Python 3"
    },
    "language_info": {
      "name": "python"
    }
  },
  "cells": [
    {
      "cell_type": "markdown",
      "metadata": {
        "id": "view-in-github",
        "colab_type": "text"
      },
      "source": [
        "<a href=\"https://colab.research.google.com/github/sujayrittikar/DeepLearning/blob/master/Regression.ipynb\" target=\"_parent\"><img src=\"https://colab.research.google.com/assets/colab-badge.svg\" alt=\"Open In Colab\"/></a>"
      ]
    },
    {
      "cell_type": "code",
      "metadata": {
        "id": "pAOmfCkulFm7"
      },
      "source": [
        "import tensorflow as tf"
      ],
      "execution_count": null,
      "outputs": []
    },
    {
      "cell_type": "code",
      "metadata": {
        "id": "zrVsiAOtlqAk"
      },
      "source": [
        "housing_data = tf.keras.datasets.boston_housing"
      ],
      "execution_count": null,
      "outputs": []
    },
    {
      "cell_type": "code",
      "metadata": {
        "colab": {
          "base_uri": "https://localhost:8080/"
        },
        "id": "iDSWIFYyly1f",
        "outputId": "57f067d4-9d07-492f-8229-e438061a62ef"
      },
      "source": [
        "(x_train, Y_train), (x_test, Y_test) = housing_data.load_data()"
      ],
      "execution_count": null,
      "outputs": [
        {
          "output_type": "stream",
          "name": "stdout",
          "text": [
            "Downloading data from https://storage.googleapis.com/tensorflow/tf-keras-datasets/boston_housing.npz\n",
            "57344/57026 [==============================] - 0s 0us/step\n",
            "65536/57026 [==================================] - 0s 0us/step\n"
          ]
        }
      ]
    },
    {
      "cell_type": "code",
      "metadata": {
        "colab": {
          "base_uri": "https://localhost:8080/"
        },
        "id": "TZMvP3FXl4rW",
        "outputId": "92926459-be78-4127-c42a-acf15b4f39ec"
      },
      "source": [
        "print(\"x train shape: \", x_train.shape)\n",
        "print(\"Y train shape: \", Y_train.shape)\n",
        "print(\"x test shape: \", x_test.shape)\n",
        "print(\"Y test shape: \", Y_test.shape)"
      ],
      "execution_count": null,
      "outputs": [
        {
          "output_type": "stream",
          "name": "stdout",
          "text": [
            "x train shape:  (404, 13)\n",
            "Y train shape:  (404,)\n",
            "x test shape:  (102, 13)\n",
            "Y test shape:  (102,)\n"
          ]
        }
      ]
    },
    {
      "cell_type": "code",
      "metadata": {
        "id": "7WhiLySpos3d"
      },
      "source": [
        "from sklearn.preprocessing import MinMaxScaler\n",
        "scaler = MinMaxScaler()\n",
        "scaled_x_train = scaler.fit_transform(x_train)\n",
        "scaled_x_test = scaler.fit_transform(x_test)"
      ],
      "execution_count": null,
      "outputs": []
    },
    {
      "cell_type": "code",
      "metadata": {
        "colab": {
          "base_uri": "https://localhost:8080/"
        },
        "id": "MPGMYTBzmEeq",
        "outputId": "7ec30b34-adf0-4845-94b8-b56963176fd4"
      },
      "source": [
        "# Creating the DNN model for Regression\n",
        "model = tf.keras.models.Sequential()\n",
        "model.add(tf.keras.layers.Dense(128, activation=\"relu\", input_shape=(scaled_x_train[0].shape)))\n",
        "model.add(tf.keras.layers.Dense(64, activation=\"relu\"))\n",
        "model.add(tf.keras.layers.Dense(32, activation=\"relu\"))\n",
        "model.add(tf.keras.layers.Dense(1, activation=\"relu\"))\n",
        "model.summary()"
      ],
      "execution_count": null,
      "outputs": [
        {
          "output_type": "stream",
          "name": "stdout",
          "text": [
            "Model: \"sequential_2\"\n",
            "_________________________________________________________________\n",
            "Layer (type)                 Output Shape              Param #   \n",
            "=================================================================\n",
            "dense_4 (Dense)              (None, 128)               1792      \n",
            "_________________________________________________________________\n",
            "dense_5 (Dense)              (None, 64)                8256      \n",
            "_________________________________________________________________\n",
            "dense_6 (Dense)              (None, 32)                2080      \n",
            "_________________________________________________________________\n",
            "dense_7 (Dense)              (None, 1)                 33        \n",
            "=================================================================\n",
            "Total params: 12,161\n",
            "Trainable params: 12,161\n",
            "Non-trainable params: 0\n",
            "_________________________________________________________________\n"
          ]
        }
      ]
    },
    {
      "cell_type": "code",
      "metadata": {
        "id": "Blq0Wh4InT1Q"
      },
      "source": [
        "model.compile(optimizer=\"rmsprop\", loss=tf.keras.losses.mean_squared_error, metrics=['mae'])"
      ],
      "execution_count": null,
      "outputs": []
    },
    {
      "cell_type": "code",
      "metadata": {
        "colab": {
          "base_uri": "https://localhost:8080/"
        },
        "id": "oHkojgtRnk3-",
        "outputId": "fdd5d276-dcc7-4ecb-a92c-48b67034d433"
      },
      "source": [
        "fitted = model.fit(scaled_x_train, Y_train, batch_size=10, epochs=100)"
      ],
      "execution_count": null,
      "outputs": [
        {
          "output_type": "stream",
          "name": "stdout",
          "text": [
            "Epoch 1/100\n",
            "41/41 [==============================] - 1s 1ms/step - loss: 339.5747 - mae: 15.3046\n",
            "Epoch 2/100\n",
            "41/41 [==============================] - 0s 1ms/step - loss: 97.0859 - mae: 7.3386\n",
            "Epoch 3/100\n",
            "41/41 [==============================] - 0s 1ms/step - loss: 60.9140 - mae: 5.5560\n",
            "Epoch 4/100\n",
            "41/41 [==============================] - 0s 1ms/step - loss: 47.8374 - mae: 4.8435\n",
            "Epoch 5/100\n",
            "41/41 [==============================] - 0s 1ms/step - loss: 41.0431 - mae: 4.4232\n",
            "Epoch 6/100\n",
            "41/41 [==============================] - 0s 1ms/step - loss: 33.9811 - mae: 4.0492\n",
            "Epoch 7/100\n",
            "41/41 [==============================] - 0s 1ms/step - loss: 29.8410 - mae: 3.7837\n",
            "Epoch 8/100\n",
            "41/41 [==============================] - 0s 1ms/step - loss: 26.7829 - mae: 3.6107\n",
            "Epoch 9/100\n",
            "41/41 [==============================] - 0s 1ms/step - loss: 24.3546 - mae: 3.3934\n",
            "Epoch 10/100\n",
            "41/41 [==============================] - 0s 1ms/step - loss: 23.2043 - mae: 3.3353\n",
            "Epoch 11/100\n",
            "41/41 [==============================] - 0s 2ms/step - loss: 21.0279 - mae: 3.2255\n",
            "Epoch 12/100\n",
            "41/41 [==============================] - 0s 2ms/step - loss: 20.5033 - mae: 3.1813\n",
            "Epoch 13/100\n",
            "41/41 [==============================] - 0s 1ms/step - loss: 20.8077 - mae: 3.2093\n",
            "Epoch 14/100\n",
            "41/41 [==============================] - 0s 1ms/step - loss: 19.0416 - mae: 3.0501\n",
            "Epoch 15/100\n",
            "41/41 [==============================] - 0s 2ms/step - loss: 19.5758 - mae: 3.0374\n",
            "Epoch 16/100\n",
            "41/41 [==============================] - 0s 1ms/step - loss: 18.9725 - mae: 3.0768\n",
            "Epoch 17/100\n",
            "41/41 [==============================] - 0s 2ms/step - loss: 18.5405 - mae: 2.9358\n",
            "Epoch 18/100\n",
            "41/41 [==============================] - 0s 1ms/step - loss: 17.2100 - mae: 2.9478\n",
            "Epoch 19/100\n",
            "41/41 [==============================] - 0s 1ms/step - loss: 16.9629 - mae: 2.8673\n",
            "Epoch 20/100\n",
            "41/41 [==============================] - 0s 1ms/step - loss: 16.9293 - mae: 2.9006\n",
            "Epoch 21/100\n",
            "41/41 [==============================] - 0s 2ms/step - loss: 15.9053 - mae: 2.8098\n",
            "Epoch 22/100\n",
            "41/41 [==============================] - 0s 2ms/step - loss: 15.5360 - mae: 2.7776\n",
            "Epoch 23/100\n",
            "41/41 [==============================] - 0s 2ms/step - loss: 15.0657 - mae: 2.7583\n",
            "Epoch 24/100\n",
            "41/41 [==============================] - 0s 1ms/step - loss: 15.0671 - mae: 2.6960\n",
            "Epoch 25/100\n",
            "41/41 [==============================] - 0s 2ms/step - loss: 15.0375 - mae: 2.7302\n",
            "Epoch 26/100\n",
            "41/41 [==============================] - 0s 2ms/step - loss: 13.4645 - mae: 2.5638\n",
            "Epoch 27/100\n",
            "41/41 [==============================] - 0s 1ms/step - loss: 13.7103 - mae: 2.5933\n",
            "Epoch 28/100\n",
            "41/41 [==============================] - 0s 1ms/step - loss: 12.9375 - mae: 2.5386\n",
            "Epoch 29/100\n",
            "41/41 [==============================] - 0s 1ms/step - loss: 12.8447 - mae: 2.5186\n",
            "Epoch 30/100\n",
            "41/41 [==============================] - 0s 2ms/step - loss: 12.9881 - mae: 2.5315\n",
            "Epoch 31/100\n",
            "41/41 [==============================] - 0s 2ms/step - loss: 11.7843 - mae: 2.4486\n",
            "Epoch 32/100\n",
            "41/41 [==============================] - 0s 1ms/step - loss: 11.7514 - mae: 2.4771\n",
            "Epoch 33/100\n",
            "41/41 [==============================] - 0s 1ms/step - loss: 12.4232 - mae: 2.4880\n",
            "Epoch 34/100\n",
            "41/41 [==============================] - 0s 1ms/step - loss: 11.5564 - mae: 2.4350\n",
            "Epoch 35/100\n",
            "41/41 [==============================] - 0s 1ms/step - loss: 10.6425 - mae: 2.4088\n",
            "Epoch 36/100\n",
            "41/41 [==============================] - 0s 1ms/step - loss: 11.7221 - mae: 2.4241\n",
            "Epoch 37/100\n",
            "41/41 [==============================] - 0s 1ms/step - loss: 10.8412 - mae: 2.2583\n",
            "Epoch 38/100\n",
            "41/41 [==============================] - 0s 1ms/step - loss: 11.1929 - mae: 2.3729\n",
            "Epoch 39/100\n",
            "41/41 [==============================] - 0s 1ms/step - loss: 10.3930 - mae: 2.2849\n",
            "Epoch 40/100\n",
            "41/41 [==============================] - 0s 2ms/step - loss: 10.1426 - mae: 2.2261\n",
            "Epoch 41/100\n",
            "41/41 [==============================] - 0s 1ms/step - loss: 9.9882 - mae: 2.2788\n",
            "Epoch 42/100\n",
            "41/41 [==============================] - 0s 1ms/step - loss: 9.8845 - mae: 2.2274\n",
            "Epoch 43/100\n",
            "41/41 [==============================] - 0s 2ms/step - loss: 10.3744 - mae: 2.2741\n",
            "Epoch 44/100\n",
            "41/41 [==============================] - 0s 2ms/step - loss: 9.6538 - mae: 2.2470\n",
            "Epoch 45/100\n",
            "41/41 [==============================] - 0s 2ms/step - loss: 9.9244 - mae: 2.2677\n",
            "Epoch 46/100\n",
            "41/41 [==============================] - 0s 2ms/step - loss: 9.9756 - mae: 2.2750\n",
            "Epoch 47/100\n",
            "41/41 [==============================] - 0s 1ms/step - loss: 9.6149 - mae: 2.2220\n",
            "Epoch 48/100\n",
            "41/41 [==============================] - 0s 2ms/step - loss: 9.2036 - mae: 2.1834\n",
            "Epoch 49/100\n",
            "41/41 [==============================] - 0s 2ms/step - loss: 9.4805 - mae: 2.2230\n",
            "Epoch 50/100\n",
            "41/41 [==============================] - 0s 1ms/step - loss: 9.6992 - mae: 2.2498\n",
            "Epoch 51/100\n",
            "41/41 [==============================] - 0s 1ms/step - loss: 8.9102 - mae: 2.1603\n",
            "Epoch 52/100\n",
            "41/41 [==============================] - 0s 1ms/step - loss: 9.4622 - mae: 2.1938\n",
            "Epoch 53/100\n",
            "41/41 [==============================] - 0s 2ms/step - loss: 9.4124 - mae: 2.1627\n",
            "Epoch 54/100\n",
            "41/41 [==============================] - 0s 1ms/step - loss: 8.8136 - mae: 2.1504\n",
            "Epoch 55/100\n",
            "41/41 [==============================] - 0s 2ms/step - loss: 9.2371 - mae: 2.2028\n",
            "Epoch 56/100\n",
            "41/41 [==============================] - 0s 1ms/step - loss: 8.1161 - mae: 2.1123\n",
            "Epoch 57/100\n",
            "41/41 [==============================] - 0s 1ms/step - loss: 8.8283 - mae: 2.0853\n",
            "Epoch 58/100\n",
            "41/41 [==============================] - 0s 2ms/step - loss: 8.5404 - mae: 2.0759\n",
            "Epoch 59/100\n",
            "41/41 [==============================] - 0s 2ms/step - loss: 8.2672 - mae: 2.1191\n",
            "Epoch 60/100\n",
            "41/41 [==============================] - 0s 2ms/step - loss: 8.1781 - mae: 2.0945\n",
            "Epoch 61/100\n",
            "41/41 [==============================] - 0s 2ms/step - loss: 8.6504 - mae: 2.1323\n",
            "Epoch 62/100\n",
            "41/41 [==============================] - 0s 1ms/step - loss: 8.3751 - mae: 2.0871\n",
            "Epoch 63/100\n",
            "41/41 [==============================] - 0s 1ms/step - loss: 8.5515 - mae: 2.1002\n",
            "Epoch 64/100\n",
            "41/41 [==============================] - 0s 1ms/step - loss: 8.2274 - mae: 2.0725\n",
            "Epoch 65/100\n",
            "41/41 [==============================] - 0s 2ms/step - loss: 8.4658 - mae: 2.0986\n",
            "Epoch 66/100\n",
            "41/41 [==============================] - 0s 2ms/step - loss: 8.8645 - mae: 2.1326\n",
            "Epoch 67/100\n",
            "41/41 [==============================] - 0s 1ms/step - loss: 7.7722 - mae: 1.9860\n",
            "Epoch 68/100\n",
            "41/41 [==============================] - 0s 1ms/step - loss: 7.7633 - mae: 2.0718\n",
            "Epoch 69/100\n",
            "41/41 [==============================] - 0s 1ms/step - loss: 8.4251 - mae: 2.0882\n",
            "Epoch 70/100\n",
            "41/41 [==============================] - 0s 2ms/step - loss: 7.7378 - mae: 2.0471\n",
            "Epoch 71/100\n",
            "41/41 [==============================] - 0s 1ms/step - loss: 8.0329 - mae: 2.0738\n",
            "Epoch 72/100\n",
            "41/41 [==============================] - 0s 1ms/step - loss: 7.7069 - mae: 2.0531\n",
            "Epoch 73/100\n",
            "41/41 [==============================] - 0s 1ms/step - loss: 7.8735 - mae: 2.0444\n",
            "Epoch 74/100\n",
            "41/41 [==============================] - 0s 1ms/step - loss: 7.4474 - mae: 2.0245\n",
            "Epoch 75/100\n",
            "41/41 [==============================] - 0s 1ms/step - loss: 7.7749 - mae: 2.0704\n",
            "Epoch 76/100\n",
            "41/41 [==============================] - 0s 1ms/step - loss: 7.6133 - mae: 1.9910\n",
            "Epoch 77/100\n",
            "41/41 [==============================] - 0s 1ms/step - loss: 7.7102 - mae: 2.0540\n",
            "Epoch 78/100\n",
            "41/41 [==============================] - 0s 1ms/step - loss: 7.9129 - mae: 2.0682\n",
            "Epoch 79/100\n",
            "41/41 [==============================] - 0s 2ms/step - loss: 6.7707 - mae: 1.9191\n",
            "Epoch 80/100\n",
            "41/41 [==============================] - 0s 2ms/step - loss: 7.3844 - mae: 1.9596\n",
            "Epoch 81/100\n",
            "41/41 [==============================] - 0s 1ms/step - loss: 7.2501 - mae: 2.0421\n",
            "Epoch 82/100\n",
            "41/41 [==============================] - 0s 1ms/step - loss: 7.3027 - mae: 1.9310\n",
            "Epoch 83/100\n",
            "41/41 [==============================] - 0s 2ms/step - loss: 7.0878 - mae: 1.9257\n",
            "Epoch 84/100\n",
            "41/41 [==============================] - 0s 1ms/step - loss: 7.3446 - mae: 1.9653\n",
            "Epoch 85/100\n",
            "41/41 [==============================] - 0s 1ms/step - loss: 7.7537 - mae: 2.0160\n",
            "Epoch 86/100\n",
            "41/41 [==============================] - 0s 1ms/step - loss: 7.2704 - mae: 1.9290\n",
            "Epoch 87/100\n",
            "41/41 [==============================] - 0s 2ms/step - loss: 7.3621 - mae: 1.9714\n",
            "Epoch 88/100\n",
            "41/41 [==============================] - 0s 2ms/step - loss: 7.3572 - mae: 1.9631\n",
            "Epoch 89/100\n",
            "41/41 [==============================] - 0s 1ms/step - loss: 7.1550 - mae: 1.9103\n",
            "Epoch 90/100\n",
            "41/41 [==============================] - 0s 2ms/step - loss: 6.7793 - mae: 1.9324\n",
            "Epoch 91/100\n",
            "41/41 [==============================] - 0s 2ms/step - loss: 6.8074 - mae: 1.9394\n",
            "Epoch 92/100\n",
            "41/41 [==============================] - 0s 2ms/step - loss: 7.4383 - mae: 1.9233\n",
            "Epoch 93/100\n",
            "41/41 [==============================] - 0s 1ms/step - loss: 6.8148 - mae: 1.9595\n",
            "Epoch 94/100\n",
            "41/41 [==============================] - 0s 1ms/step - loss: 7.2917 - mae: 1.9573\n",
            "Epoch 95/100\n",
            "41/41 [==============================] - 0s 1ms/step - loss: 7.0194 - mae: 1.9756\n",
            "Epoch 96/100\n",
            "41/41 [==============================] - 0s 1ms/step - loss: 7.2107 - mae: 1.9313\n",
            "Epoch 97/100\n",
            "41/41 [==============================] - 0s 2ms/step - loss: 7.2005 - mae: 1.9422\n",
            "Epoch 98/100\n",
            "41/41 [==============================] - 0s 2ms/step - loss: 6.4207 - mae: 1.8379\n",
            "Epoch 99/100\n",
            "41/41 [==============================] - 0s 1ms/step - loss: 6.3689 - mae: 1.8138\n",
            "Epoch 100/100\n",
            "41/41 [==============================] - 0s 1ms/step - loss: 6.2495 - mae: 1.8709\n"
          ]
        }
      ]
    },
    {
      "cell_type": "code",
      "metadata": {
        "colab": {
          "base_uri": "https://localhost:8080/"
        },
        "id": "ABizIi89nss5",
        "outputId": "4b8c227c-5286-4f35-ecfc-cef3d47590a3"
      },
      "source": [
        "model.evaluate(scaled_x_test, Y_test, batch_size=10)"
      ],
      "execution_count": null,
      "outputs": [
        {
          "output_type": "stream",
          "name": "stdout",
          "text": [
            "11/11 [==============================] - 0s 1ms/step - loss: 31.7104 - mae: 4.1005\n"
          ]
        },
        {
          "output_type": "execute_result",
          "data": {
            "text/plain": [
              "[31.710447311401367, 4.100528717041016]"
            ]
          },
          "metadata": {},
          "execution_count": 16
        }
      ]
    },
    {
      "cell_type": "code",
      "metadata": {
        "colab": {
          "base_uri": "https://localhost:8080/",
          "height": 279
        },
        "id": "FkpCx5KJpU7W",
        "outputId": "9d5b9bce-f820-4ede-8372-91e1e097735f"
      },
      "source": [
        "import matplotlib.pyplot as plt\n",
        "plt.plot(fitted.history['mae'])\n",
        "plt.xlabel(\"Epochs\")\n",
        "plt.ylabel(\"MAE\")\n",
        "plt.show()"
      ],
      "execution_count": null,
      "outputs": [
        {
          "output_type": "display_data",
          "data": {
            "image/png": "[encoded data removed]",
            "text/plain": [
              "<Figure size 432x288 with 1 Axes>"
            ]
          },
          "metadata": {
            "needs_background": "light"
          }
        }
      ]
    },
    {
      "cell_type": "code",
      "metadata": {
        "colab": {
          "base_uri": "https://localhost:8080/",
          "height": 280
        },
        "id": "ETZ-FnQ-peuR",
        "outputId": "dfc091b5-c696-4320-80e0-082a439484a5"
      },
      "source": [
        "plt.plot(fitted.history['loss'])\n",
        "plt.xlabel(\"Epochs\")\n",
        "plt.ylabel(\"Loss(MSE)\")\n",
        "plt.show()"
      ],
      "execution_count": null,
      "outputs": [
        {
          "output_type": "display_data",
          "data": {
            "image/png": "[encoded data removed]",
            "text/plain": [
              "<Figure size 432x288 with 1 Axes>"
            ]
          },
          "metadata": {
            "needs_background": "light"
          }
        }
      ]
    }
  ]
}