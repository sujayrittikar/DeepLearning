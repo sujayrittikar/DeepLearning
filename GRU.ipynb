{
  "nbformat": 4,
  "nbformat_minor": 0,
  "metadata": {
    "colab": {
      "name": "GRU.ipynb",
      "provenance": [],
      "authorship_tag": "ABX9TyPDVqzCSPmlYx7TOq0lEZA3",
      "include_colab_link": true
    },
    "kernelspec": {
      "name": "python3",
      "display_name": "Python 3"
    },
    "language_info": {
      "name": "python"
    }
  },
  "cells": [
    {
      "cell_type": "markdown",
      "metadata": {
        "id": "view-in-github",
        "colab_type": "text"
      },
      "source": [
        "<a href=\"https://colab.research.google.com/github/sujayrittikar/DeepLearning/blob/master/GRU.ipynb\" target=\"_parent\"><img src=\"https://colab.research.google.com/assets/colab-badge.svg\" alt=\"Open In Colab\"/></a>"
      ]
    },
    {
      "cell_type": "code",
      "metadata": {
        "id": "EumWIXGosW9h"
      },
      "source": [
        "import tensorflow as tf"
      ],
      "execution_count": 1,
      "outputs": []
    },
    {
      "cell_type": "code",
      "metadata": {
        "id": "Fu-CEGvGsmRB"
      },
      "source": [
        "imdb = tf.keras.datasets.imdb"
      ],
      "execution_count": 2,
      "outputs": []
    },
    {
      "cell_type": "code",
      "metadata": {
        "id": "znBDpTn7srXg",
        "colab": {
          "base_uri": "https://localhost:8080/"
        },
        "outputId": "d5c17f42-d28a-4878-95a1-5016eef11f76"
      },
      "source": [
        "(x_train, Y_train), (x_test, Y_test) = imdb.load_data(num_words=1000)"
      ],
      "execution_count": 3,
      "outputs": [
        {
          "output_type": "stream",
          "name": "stdout",
          "text": [
            "Downloading data from https://storage.googleapis.com/tensorflow/tf-keras-datasets/imdb.npz\n",
            "17465344/17464789 [==============================] - 0s 0us/step\n",
            "17473536/17464789 [==============================] - 0s 0us/step\n"
          ]
        }
      ]
    },
    {
      "cell_type": "code",
      "metadata": {
        "colab": {
          "base_uri": "https://localhost:8080/"
        },
        "id": "dq-RX-DjsuvM",
        "outputId": "9f9d83bc-38ca-4d28-8bf5-75757295bb16"
      },
      "source": [
        "print(x_train[4])\n",
        "print(Y_train[4])"
      ],
      "execution_count": 4,
      "outputs": [
        {
          "output_type": "stream",
          "name": "stdout",
          "text": [
            "[1, 249, 2, 7, 61, 113, 10, 10, 13, 2, 14, 20, 56, 33, 2, 18, 457, 88, 13, 2, 2, 45, 2, 13, 70, 79, 49, 706, 919, 13, 16, 355, 340, 355, 2, 96, 143, 4, 22, 32, 289, 7, 61, 369, 71, 2, 5, 13, 16, 131, 2, 249, 114, 249, 229, 249, 20, 13, 28, 126, 110, 13, 473, 8, 569, 61, 419, 56, 429, 6, 2, 18, 35, 534, 95, 474, 570, 5, 25, 124, 138, 88, 12, 421, 2, 52, 725, 2, 61, 419, 11, 13, 2, 15, 2, 20, 11, 4, 2, 5, 296, 12, 2, 5, 15, 421, 128, 74, 233, 334, 207, 126, 224, 12, 562, 298, 2, 2, 7, 2, 5, 516, 988, 43, 8, 79, 120, 15, 595, 13, 784, 25, 2, 18, 165, 170, 143, 19, 14, 5, 2, 6, 226, 251, 7, 61, 113]\n",
            "0\n"
          ]
        }
      ]
    },
    {
      "cell_type": "code",
      "metadata": {
        "id": "llFMnWu8szaI",
        "colab": {
          "base_uri": "https://localhost:8080/"
        },
        "outputId": "3b4e7ab0-0e74-40d8-a7c6-bb0aa595ad86"
      },
      "source": [
        "vocabulary = imdb.get_word_index()"
      ],
      "execution_count": 5,
      "outputs": [
        {
          "output_type": "stream",
          "name": "stdout",
          "text": [
            "Downloading data from https://storage.googleapis.com/tensorflow/tf-keras-datasets/imdb_word_index.json\n",
            "1646592/1641221 [==============================] - 0s 0us/step\n",
            "1654784/1641221 [==============================] - 0s 0us/step\n"
          ]
        }
      ]
    },
    {
      "cell_type": "code",
      "metadata": {
        "colab": {
          "base_uri": "https://localhost:8080/"
        },
        "id": "jD5yB-_gs5PX",
        "outputId": "0feef337-25ff-47f2-f417-97f985b7b85f"
      },
      "source": [
        "print(list(vocabulary)[:10])"
      ],
      "execution_count": 6,
      "outputs": [
        {
          "output_type": "stream",
          "name": "stdout",
          "text": [
            "['fawn', 'tsukino', 'nunnery', 'sonja', 'vani', 'woods', 'spiders', 'hanging', 'woody', 'trawling']\n"
          ]
        }
      ]
    },
    {
      "cell_type": "code",
      "metadata": {
        "id": "HUwrjFOus6MV"
      },
      "source": [
        "max_size = 500\n",
        "x_train = tf.keras.preprocessing.sequence.pad_sequences(x_train, maxlen=max_size)\n",
        "x_test = tf.keras.preprocessing.sequence.pad_sequences(x_test, maxlen=max_size)"
      ],
      "execution_count": 7,
      "outputs": []
    },
    {
      "cell_type": "code",
      "metadata": {
        "colab": {
          "base_uri": "https://localhost:8080/"
        },
        "id": "ypwh6sfGtOiA",
        "outputId": "ae0ac30b-2064-4bc0-df8e-06bbf2be7a12"
      },
      "source": [
        "embedding_size = 32\n",
        "model = tf.keras.models.Sequential()\n",
        "model.add(tf.keras.layers.Embedding(1000, embedding_size, input_length=(max_size)))\n",
        "model.add(tf.keras.layers.GRU(100, return_sequences='true'))\n",
        "model.add(tf.keras.layers.GRU(50, return_sequences='true'))\n",
        "model.add(tf.keras.layers.GRU(25))\n",
        "model.add(tf.keras.layers.Dense(1, activation=\"sigmoid\"))\n",
        "model.summary()"
      ],
      "execution_count": 8,
      "outputs": [
        {
          "output_type": "stream",
          "name": "stdout",
          "text": [
            "Model: \"sequential\"\n",
            "_________________________________________________________________\n",
            "Layer (type)                 Output Shape              Param #   \n",
            "=================================================================\n",
            "embedding (Embedding)        (None, 500, 32)           32000     \n",
            "_________________________________________________________________\n",
            "gru (GRU)                    (None, 500, 100)          40200     \n",
            "_________________________________________________________________\n",
            "gru_1 (GRU)                  (None, 500, 50)           22800     \n",
            "_________________________________________________________________\n",
            "gru_2 (GRU)                  (None, 25)                5775      \n",
            "_________________________________________________________________\n",
            "dense (Dense)                (None, 1)                 26        \n",
            "=================================================================\n",
            "Total params: 100,801\n",
            "Trainable params: 100,801\n",
            "Non-trainable params: 0\n",
            "_________________________________________________________________\n"
          ]
        }
      ]
    },
    {
      "cell_type": "code",
      "metadata": {
        "id": "5akk2gj-uV8z"
      },
      "source": [
        "model.compile(optimizer='rmsprop', loss=tf.keras.losses.binary_crossentropy, metrics=['acc'])"
      ],
      "execution_count": 9,
      "outputs": []
    },
    {
      "cell_type": "code",
      "metadata": {
        "colab": {
          "base_uri": "https://localhost:8080/"
        },
        "id": "bieJqOGcuojk",
        "outputId": "6dd5ea0b-b903-4f32-8552-8f07cf168c64"
      },
      "source": [
        "fitted = model.fit(x_train, Y_train, epochs=10, batch_size=10, validation_split=0.25, steps_per_epoch=8)"
      ],
      "execution_count": 10,
      "outputs": [
        {
          "output_type": "stream",
          "name": "stdout",
          "text": [
            "Epoch 1/10\n",
            "8/8 [==============================] - 61s 8s/step - loss: 0.6959 - acc: 0.4625 - val_loss: 0.6927 - val_acc: 0.5275\n",
            "Epoch 2/10\n",
            "8/8 [==============================] - 57s 8s/step - loss: 0.6922 - acc: 0.5750 - val_loss: 0.6929 - val_acc: 0.5061\n",
            "Epoch 3/10\n",
            "8/8 [==============================] - 57s 8s/step - loss: 0.6933 - acc: 0.5125 - val_loss: 0.6944 - val_acc: 0.4939\n",
            "Epoch 4/10\n",
            "8/8 [==============================] - 57s 8s/step - loss: 0.6972 - acc: 0.5250 - val_loss: 0.6936 - val_acc: 0.4939\n",
            "Epoch 5/10\n",
            "8/8 [==============================] - 57s 8s/step - loss: 0.6916 - acc: 0.5500 - val_loss: 0.6942 - val_acc: 0.4939\n",
            "Epoch 6/10\n",
            "8/8 [==============================] - 57s 8s/step - loss: 0.6956 - acc: 0.4875 - val_loss: 0.6926 - val_acc: 0.4941\n",
            "Epoch 7/10\n",
            "8/8 [==============================] - 57s 8s/step - loss: 0.6898 - acc: 0.5375 - val_loss: 0.6923 - val_acc: 0.4947\n",
            "Epoch 8/10\n",
            "8/8 [==============================] - 57s 8s/step - loss: 0.6842 - acc: 0.5375 - val_loss: 0.6925 - val_acc: 0.5102\n",
            "Epoch 9/10\n",
            "8/8 [==============================] - 57s 8s/step - loss: 0.6621 - acc: 0.6375 - val_loss: 0.7052 - val_acc: 0.4974\n",
            "Epoch 10/10\n",
            "8/8 [==============================] - 57s 8s/step - loss: 0.6726 - acc: 0.6000 - val_loss: 0.7198 - val_acc: 0.4949\n"
          ]
        }
      ]
    },
    {
      "cell_type": "code",
      "metadata": {
        "id": "N91XtQXuuvAV",
        "colab": {
          "base_uri": "https://localhost:8080/",
          "height": 295
        },
        "outputId": "0bf931bf-baa7-4cdc-8cda-1e26bd80477e"
      },
      "source": [
        "import matplotlib.pyplot as plt\n",
        "plt.plot(fitted.history['acc'])\n",
        "plt.plot(fitted.history['val_acc'])\n",
        "plt.xlabel(\"Epochs\")\n",
        "plt.ylabel(\"Accuracy\")\n",
        "plt.title(\"Accuracy of the Model\")\n",
        "plt.legend([\"Train\", \"Test\"])\n",
        "plt.show()"
      ],
      "execution_count": 11,
      "outputs": [
        {
          "output_type": "display_data",
          "data": {
            "image/png": "[encoded data removed]",
            "text/plain": [
              "<Figure size 432x288 with 1 Axes>"
            ]
          },
          "metadata": {
            "needs_background": "light"
          }
        }
      ]
    },
    {
      "cell_type": "code",
      "metadata": {
        "colab": {
          "base_uri": "https://localhost:8080/",
          "height": 295
        },
        "id": "-s5ftd55P6XJ",
        "outputId": "23f422ba-920b-4d63-973c-d29158ed814c"
      },
      "source": [
        "plt.plot(fitted.history['loss'])\n",
        "plt.plot(fitted.history['val_loss'])\n",
        "plt.xlabel(\"Epochs\")\n",
        "plt.ylabel(\"Loss\")\n",
        "plt.title(\"Loss of the Model\")\n",
        "plt.legend([\"Train\", \"Test\"])\n",
        "plt.show()"
      ],
      "execution_count": 12,
      "outputs": [
        {
          "output_type": "display_data",
          "data": {
            "image/png": "[encoded data removed]",
            "text/plain": [
              "<Figure size 432x288 with 1 Axes>"
            ]
          },
          "metadata": {
            "needs_background": "light"
          }
        }
      ]
    }
  ]
}