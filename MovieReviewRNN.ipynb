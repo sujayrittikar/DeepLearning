{
  "nbformat": 4,
  "nbformat_minor": 0,
  "metadata": {
    "colab": {
      "name": "MovieReviewRNN.ipynb",
      "provenance": [],
      "authorship_tag": "ABX9TyOtRsbJmghfnn9KCc5uwPmv",
      "include_colab_link": true
    },
    "kernelspec": {
      "name": "python3",
      "display_name": "Python 3"
    },
    "language_info": {
      "name": "python"
    }
  },
  "cells": [
    {
      "cell_type": "markdown",
      "metadata": {
        "id": "view-in-github",
        "colab_type": "text"
      },
      "source": [
        "<a href=\"https://colab.research.google.com/github/sujayrittikar/DeepLearning/blob/master/MovieReviewRNN.ipynb\" target=\"_parent\"><img src=\"https://colab.research.google.com/assets/colab-badge.svg\" alt=\"Open In Colab\"/></a>"
      ]
    },
    {
      "cell_type": "code",
      "metadata": {
        "id": "YaN5nj9ybZye"
      },
      "source": [
        "import tensorflow as tf"
      ],
      "execution_count": 1,
      "outputs": []
    },
    {
      "cell_type": "code",
      "metadata": {
        "id": "-mB4rZYCbeU0"
      },
      "source": [
        "imdb = tf.keras.datasets.imdb"
      ],
      "execution_count": 2,
      "outputs": []
    },
    {
      "cell_type": "code",
      "metadata": {
        "id": "beo1KZhpbnSB"
      },
      "source": [
        "(x_train, Y_train), (x_test, Y_test) = imdb.load_data(num_words=1000)"
      ],
      "execution_count": 3,
      "outputs": []
    },
    {
      "cell_type": "code",
      "metadata": {
        "colab": {
          "base_uri": "https://localhost:8080/"
        },
        "id": "zVTGsanrbw_7",
        "outputId": "53e83b4a-a47d-43b5-87a5-a2fee568d68d"
      },
      "source": [
        "print(\"Review for a sample data point: \", x_train[4])\n",
        "print(\"Label for the same sample data point: \", Y_train[4])"
      ],
      "execution_count": 4,
      "outputs": [
        {
          "output_type": "stream",
          "name": "stdout",
          "text": [
            "Review for a sample data point:  [1, 249, 2, 7, 61, 113, 10, 10, 13, 2, 14, 20, 56, 33, 2, 18, 457, 88, 13, 2, 2, 45, 2, 13, 70, 79, 49, 706, 919, 13, 16, 355, 340, 355, 2, 96, 143, 4, 22, 32, 289, 7, 61, 369, 71, 2, 5, 13, 16, 131, 2, 249, 114, 249, 229, 249, 20, 13, 28, 126, 110, 13, 473, 8, 569, 61, 419, 56, 429, 6, 2, 18, 35, 534, 95, 474, 570, 5, 25, 124, 138, 88, 12, 421, 2, 52, 725, 2, 61, 419, 11, 13, 2, 15, 2, 20, 11, 4, 2, 5, 296, 12, 2, 5, 15, 421, 128, 74, 233, 334, 207, 126, 224, 12, 562, 298, 2, 2, 7, 2, 5, 516, 988, 43, 8, 79, 120, 15, 595, 13, 784, 25, 2, 18, 165, 170, 143, 19, 14, 5, 2, 6, 226, 251, 7, 61, 113]\n",
            "Label for the same sample data point:  0\n"
          ]
        }
      ]
    },
    {
      "cell_type": "code",
      "metadata": {
        "colab": {
          "base_uri": "https://localhost:8080/"
        },
        "id": "GjNv5Fx1cEJT",
        "outputId": "97e00140-dcdd-479a-9cb9-5e8117eb7853"
      },
      "source": [
        "vocabulary = imdb.get_word_index()\n",
        "print(list(vocabulary)[:10])"
      ],
      "execution_count": 5,
      "outputs": [
        {
          "output_type": "stream",
          "name": "stdout",
          "text": [
            "['fawn', 'tsukino', 'nunnery', 'sonja', 'vani', 'woods', 'spiders', 'hanging', 'woody', 'trawling']\n"
          ]
        }
      ]
    },
    {
      "cell_type": "code",
      "metadata": {
        "id": "6sk4ed51cS8O"
      },
      "source": [
        "max_words = 500\n",
        "x_train = tf.keras.preprocessing.sequence.pad_sequences(x_train, maxlen=max_words)\n",
        "x_test = tf.keras.preprocessing.sequence.pad_sequences(x_test, maxlen=max_words)"
      ],
      "execution_count": 6,
      "outputs": []
    },
    {
      "cell_type": "code",
      "metadata": {
        "colab": {
          "base_uri": "https://localhost:8080/"
        },
        "id": "BXSNnoxPhoh5",
        "outputId": "357e6e18-5ebf-4ee1-d960-2343fdfae2fb"
      },
      "source": [
        "# Building the SimpleRNN model\n",
        "embedding_size = 32\n",
        "model = tf.keras.models.Sequential()\n",
        "model.add(tf.keras.layers.Embedding(1000, embedding_size, input_length=(max_words)))\n",
        "model.add(tf.keras.layers.SimpleRNN(100, return_sequences='true'))\n",
        "model.add(tf.keras.layers.SimpleRNN(50, return_sequences='true'))\n",
        "model.add(tf.keras.layers.SimpleRNN(25))\n",
        "model.add(tf.keras.layers.Dense(1, activation=\"sigmoid\"))\n",
        "model.summary()"
      ],
      "execution_count": 7,
      "outputs": [
        {
          "output_type": "stream",
          "name": "stdout",
          "text": [
            "Model: \"sequential\"\n",
            "_________________________________________________________________\n",
            "Layer (type)                 Output Shape              Param #   \n",
            "=================================================================\n",
            "embedding (Embedding)        (None, 500, 32)           32000     \n",
            "_________________________________________________________________\n",
            "simple_rnn (SimpleRNN)       (None, 500, 100)          13300     \n",
            "_________________________________________________________________\n",
            "simple_rnn_1 (SimpleRNN)     (None, 500, 50)           7550      \n",
            "_________________________________________________________________\n",
            "simple_rnn_2 (SimpleRNN)     (None, 25)                1900      \n",
            "_________________________________________________________________\n",
            "dense (Dense)                (None, 1)                 26        \n",
            "=================================================================\n",
            "Total params: 54,776\n",
            "Trainable params: 54,776\n",
            "Non-trainable params: 0\n",
            "_________________________________________________________________\n"
          ]
        }
      ]
    },
    {
      "cell_type": "code",
      "metadata": {
        "colab": {
          "base_uri": "https://localhost:8080/"
        },
        "id": "cz8o6c07iY0w",
        "outputId": "5b0daab1-1d18-4202-dfd0-a331c056a351"
      },
      "source": [
        "model.compile(optimizer='rmsprop', loss='binary_crossentropy', metrics=['acc'])\n",
        "history = model.fit(x_train, Y_train, epochs=10, batch_size=128, validation_split=0.2)"
      ],
      "execution_count": 8,
      "outputs": [
        {
          "output_type": "stream",
          "name": "stdout",
          "text": [
            "Epoch 1/10\n",
            "157/157 [==============================] - 127s 791ms/step - loss: 0.7023 - acc: 0.5096 - val_loss: 0.7057 - val_acc: 0.4934\n",
            "Epoch 2/10\n",
            "157/157 [==============================] - 124s 790ms/step - loss: 0.6841 - acc: 0.5474 - val_loss: 0.6480 - val_acc: 0.6446\n",
            "Epoch 3/10\n",
            "157/157 [==============================] - 123s 785ms/step - loss: 0.5472 - acc: 0.7299 - val_loss: 0.5578 - val_acc: 0.7200\n",
            "Epoch 4/10\n",
            "157/157 [==============================] - 124s 789ms/step - loss: 0.5155 - acc: 0.7592 - val_loss: 0.5608 - val_acc: 0.7182\n",
            "Epoch 5/10\n",
            "157/157 [==============================] - 124s 793ms/step - loss: 0.4958 - acc: 0.7734 - val_loss: 0.4708 - val_acc: 0.7834\n",
            "Epoch 6/10\n",
            "157/157 [==============================] - 125s 794ms/step - loss: 0.4998 - acc: 0.7604 - val_loss: 0.5315 - val_acc: 0.7276\n",
            "Epoch 7/10\n",
            "157/157 [==============================] - 123s 783ms/step - loss: 0.4802 - acc: 0.7742 - val_loss: 0.5845 - val_acc: 0.7348\n",
            "Epoch 8/10\n",
            "157/157 [==============================] - 125s 793ms/step - loss: 0.4892 - acc: 0.7702 - val_loss: 0.6103 - val_acc: 0.6266\n",
            "Epoch 9/10\n",
            "157/157 [==============================] - 123s 785ms/step - loss: 0.4633 - acc: 0.7889 - val_loss: 0.7533 - val_acc: 0.5890\n",
            "Epoch 10/10\n",
            "157/157 [==============================] - 123s 784ms/step - loss: 0.4603 - acc: 0.7860 - val_loss: 0.4461 - val_acc: 0.7958\n"
          ]
        }
      ]
    },
    {
      "cell_type": "code",
      "metadata": {
        "colab": {
          "base_uri": "https://localhost:8080/"
        },
        "id": "9P7vViqki3yL",
        "outputId": "5121530e-81f5-4c38-ecdb-331ee38df27a"
      },
      "source": [
        "model.evaluate(x_test, Y_test, batch_size=10)"
      ],
      "execution_count": 9,
      "outputs": [
        {
          "output_type": "stream",
          "name": "stdout",
          "text": [
            "2500/2500 [==============================] - 181s 72ms/step - loss: 0.4367 - acc: 0.8028\n"
          ]
        },
        {
          "output_type": "execute_result",
          "data": {
            "text/plain": [
              "[0.4367322325706482, 0.802839994430542]"
            ]
          },
          "metadata": {},
          "execution_count": 9
        }
      ]
    },
    {
      "cell_type": "code",
      "metadata": {
        "colab": {
          "base_uri": "https://localhost:8080/",
          "height": 279
        },
        "id": "AbFwbhzqnUXA",
        "outputId": "2041d85e-7a49-4148-cc06-1cc84cf0fee5"
      },
      "source": [
        "import matplotlib.pyplot as plt\n",
        "plt.plot(history.history['acc'])\n",
        "plt.plot(history.history['val_acc'])\n",
        "plt.xlabel(\"Epochs\")\n",
        "plt.ylabel(\"Accuracy\")\n",
        "plt.show()"
      ],
      "execution_count": 10,
      "outputs": [
        {
          "output_type": "display_data",
          "data": {
            "image/png": "[encoded data removed]",
            "text/plain": [
              "<Figure size 432x288 with 1 Axes>"
            ]
          },
          "metadata": {
            "needs_background": "light"
          }
        }
      ]
    },
    {
      "cell_type": "code",
      "metadata": {
        "colab": {
          "base_uri": "https://localhost:8080/",
          "height": 279
        },
        "id": "-iNlWyetoBRJ",
        "outputId": "e009d780-2eb9-47f4-d43d-2d08de5797db"
      },
      "source": [
        "plt.plot(history.history['loss'])\n",
        "plt.plot(history.history['val_loss'])\n",
        "plt.xlabel(\"Epochs\")\n",
        "plt.ylabel(\"Loss\")\n",
        "plt.show()"
      ],
      "execution_count": 11,
      "outputs": [
        {
          "output_type": "display_data",
          "data": {
            "image/png": "[encoded data removed]",
            "text/plain": [
              "<Figure size 432x288 with 1 Axes>"
            ]
          },
          "metadata": {
            "needs_background": "light"
          }
        }
      ]
    },
    {
      "cell_type": "code",
      "metadata": {
        "id": "OwxycCdaoY-C"
      },
      "source": [
        ""
      ],
      "execution_count": 11,
      "outputs": []
    }
  ]
}