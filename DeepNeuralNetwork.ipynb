{
  "nbformat": 4,
  "nbformat_minor": 0,
  "metadata": {
    "colab": {
      "name": "DeepNeuralNetwork.ipynb",
      "provenance": [],
      "collapsed_sections": [],
      "authorship_tag": "ABX9TyO7HzTVJvC1v5XgDLEFMZAC",
      "include_colab_link": true
    },
    "kernelspec": {
      "name": "python3",
      "display_name": "Python 3"
    },
    "language_info": {
      "name": "python"
    }
  },
  "cells": [
    {
      "cell_type": "markdown",
      "metadata": {
        "id": "view-in-github",
        "colab_type": "text"
      },
      "source": [
        "<a href=\"https://colab.research.google.com/github/sujayrittikar/DeepLearning/blob/master/DeepNeuralNetwork.ipynb\" target=\"_parent\"><img src=\"https://colab.research.google.com/assets/colab-badge.svg\" alt=\"Open In Colab\"/></a>"
      ]
    },
    {
      "cell_type": "code",
      "metadata": {
        "id": "o6TSXYqnW7hb"
      },
      "source": [
        "import tensorflow as tf"
      ],
      "execution_count": null,
      "outputs": []
    },
    {
      "cell_type": "code",
      "metadata": {
        "id": "IXFZRzeyXQFL"
      },
      "source": [
        "fashion = tf.keras.datasets.fashion_mnist"
      ],
      "execution_count": null,
      "outputs": []
    },
    {
      "cell_type": "code",
      "metadata": {
        "colab": {
          "base_uri": "https://localhost:8080/"
        },
        "id": "zDDD7Z5gXXCU",
        "outputId": "34d6db96-eb7f-4d9e-d31e-3aa12bfde2f4"
      },
      "source": [
        "(x_train, Y_train), (x_test, Y_test) = fashion.load_data()"
      ],
      "execution_count": null,
      "outputs": [
        {
          "output_type": "stream",
          "name": "stdout",
          "text": [
            "Downloading data from https://storage.googleapis.com/tensorflow/tf-keras-datasets/train-labels-idx1-ubyte.gz\n",
            "32768/29515 [=================================] - 0s 0us/step\n",
            "40960/29515 [=========================================] - 0s 0us/step\n",
            "Downloading data from https://storage.googleapis.com/tensorflow/tf-keras-datasets/train-images-idx3-ubyte.gz\n",
            "26427392/26421880 [==============================] - 0s 0us/step\n",
            "26435584/26421880 [==============================] - 0s 0us/step\n",
            "Downloading data from https://storage.googleapis.com/tensorflow/tf-keras-datasets/t10k-labels-idx1-ubyte.gz\n",
            "16384/5148 [===============================================================================================] - 0s 0us/step\n",
            "Downloading data from https://storage.googleapis.com/tensorflow/tf-keras-datasets/t10k-images-idx3-ubyte.gz\n",
            "4423680/4422102 [==============================] - 0s 0us/step\n",
            "4431872/4422102 [==============================] - 0s 0us/step\n"
          ]
        }
      ]
    },
    {
      "cell_type": "code",
      "metadata": {
        "colab": {
          "base_uri": "https://localhost:8080/"
        },
        "id": "Db8MuuBnXcTO",
        "outputId": "1c639725-a87b-4ab7-de99-58dc715bbda3"
      },
      "source": [
        "# Looking at the shapes of data\n",
        "print(\"Shape of x train: \", x_train.shape)\n",
        "print(\"Shape of Y train: \", Y_train.shape)\n",
        "print(\"Shape of x test: \", x_test.shape)\n",
        "print(\"Shape of Y test: \", Y_test.shape)"
      ],
      "execution_count": null,
      "outputs": [
        {
          "output_type": "stream",
          "name": "stdout",
          "text": [
            "Shape of x train:  (60000, 28, 28)\n",
            "Shape of Y train:  (60000,)\n",
            "Shape of x test:  (10000, 28, 28)\n",
            "Shape of Y test:  (10000,)\n"
          ]
        }
      ]
    },
    {
      "cell_type": "code",
      "metadata": {
        "colab": {
          "base_uri": "https://localhost:8080/",
          "height": 265
        },
        "id": "mzQRObFAXoc_",
        "outputId": "769679e5-8be4-4de0-e3bd-6725bf7c4ff9"
      },
      "source": [
        "import matplotlib.pyplot as plt\n",
        "plt.imshow(x_train[1])\n",
        "plt.show()"
      ],
      "execution_count": null,
      "outputs": [
        {
          "output_type": "display_data",
          "data": {
            "image/png": "[encoded data removed]",
            "text/plain": [
              "<Figure size 432x288 with 1 Axes>"
            ]
          },
          "metadata": {
            "needs_background": "light"
          }
        }
      ]
    },
    {
      "cell_type": "code",
      "metadata": {
        "id": "O__6pzq4Xtgv"
      },
      "source": [
        "# Scaling the input feature data\n",
        "x_train = x_train/255.0\n",
        "x_test = x_test/255.0"
      ],
      "execution_count": null,
      "outputs": []
    },
    {
      "cell_type": "code",
      "metadata": {
        "id": "0pn-sU5Ak7_K"
      },
      "source": [
        "# Getting the data transformed in form of a 1D array to represent features of individual images\n",
        "x_train = x_train.reshape((60000, 784))\n",
        "x_test = x_test.reshape((10000, 784))"
      ],
      "execution_count": null,
      "outputs": []
    },
    {
      "cell_type": "code",
      "metadata": {
        "id": "0rBWCe6q1lBN"
      },
      "source": [
        "# One-hot encoding the output variable\n",
        "Y_train = tf.keras.utils.to_categorical(Y_train)\n",
        "Y_test = tf.keras.utils.to_categorical(Y_test)"
      ],
      "execution_count": null,
      "outputs": []
    },
    {
      "cell_type": "code",
      "metadata": {
        "colab": {
          "base_uri": "https://localhost:8080/"
        },
        "id": "-ZyDDDhe16xC",
        "outputId": "729477d5-8706-4c58-ba51-193b4dacc3e3"
      },
      "source": [
        "# Building the Deep Neural Networks Model\n",
        "model = tf.keras.models.Sequential()\n",
        "model.add(tf.keras.layers.InputLayer(input_shape=(784, )))\n",
        "model.add(tf.keras.layers.Dense(128, activation=\"relu\"))\n",
        "model.add(tf.keras.layers.Dense(64, activation=\"relu\"))\n",
        "model.add(tf.keras.layers.Dense(10, activation=\"softmax\"))\n",
        "model.summary()"
      ],
      "execution_count": null,
      "outputs": [
        {
          "output_type": "stream",
          "name": "stdout",
          "text": [
            "Model: \"sequential_1\"\n",
            "_________________________________________________________________\n",
            "Layer (type)                 Output Shape              Param #   \n",
            "=================================================================\n",
            "dense_2 (Dense)              (None, 128)               100480    \n",
            "_________________________________________________________________\n",
            "dense_3 (Dense)              (None, 64)                8256      \n",
            "_________________________________________________________________\n",
            "dense_4 (Dense)              (None, 10)                650       \n",
            "=================================================================\n",
            "Total params: 109,386\n",
            "Trainable params: 109,386\n",
            "Non-trainable params: 0\n",
            "_________________________________________________________________\n"
          ]
        }
      ]
    },
    {
      "cell_type": "code",
      "metadata": {
        "id": "0u2j7AtJ21xo"
      },
      "source": [
        "# Compiling the model\n",
        "model.compile(optimizer=\"sgd\", loss=tf.keras.losses.categorical_crossentropy, metrics=['acc'])"
      ],
      "execution_count": null,
      "outputs": []
    },
    {
      "cell_type": "code",
      "metadata": {
        "colab": {
          "base_uri": "https://localhost:8080/"
        },
        "id": "IB3WpNFZ3GW-",
        "outputId": "2eccfbdc-8038-4c55-b8f5-215880045019"
      },
      "source": [
        "# Fitting the model\n",
        "fitted = model.fit(x=x_train, y=Y_train, batch_size=10, epochs=20, validation_split=0.25)"
      ],
      "execution_count": null,
      "outputs": [
        {
          "output_type": "stream",
          "name": "stdout",
          "text": [
            "Epoch 1/20\n",
            "4500/4500 [==============================] - 10s 2ms/step - loss: 0.6154 - acc: 0.7880 - val_loss: 0.4670 - val_acc: 0.8385\n",
            "Epoch 2/20\n",
            "4500/4500 [==============================] - 10s 2ms/step - loss: 0.4384 - acc: 0.8446 - val_loss: 0.4232 - val_acc: 0.8477\n",
            "Epoch 3/20\n",
            "4500/4500 [==============================] - 9s 2ms/step - loss: 0.3958 - acc: 0.8594 - val_loss: 0.3792 - val_acc: 0.8638\n",
            "Epoch 4/20\n",
            "4500/4500 [==============================] - 10s 2ms/step - loss: 0.3692 - acc: 0.8660 - val_loss: 0.3786 - val_acc: 0.8689\n",
            "Epoch 5/20\n",
            "4500/4500 [==============================] - 9s 2ms/step - loss: 0.3489 - acc: 0.8737 - val_loss: 0.3762 - val_acc: 0.8667\n",
            "Epoch 6/20\n",
            "4500/4500 [==============================] - 9s 2ms/step - loss: 0.3339 - acc: 0.8780 - val_loss: 0.3624 - val_acc: 0.8709\n",
            "Epoch 7/20\n",
            "4500/4500 [==============================] - 11s 2ms/step - loss: 0.3191 - acc: 0.8838 - val_loss: 0.3471 - val_acc: 0.8767\n",
            "Epoch 8/20\n",
            "4500/4500 [==============================] - 9s 2ms/step - loss: 0.3086 - acc: 0.8859 - val_loss: 0.3325 - val_acc: 0.8808\n",
            "Epoch 9/20\n",
            "4500/4500 [==============================] - 10s 2ms/step - loss: 0.2970 - acc: 0.8914 - val_loss: 0.3415 - val_acc: 0.8771\n",
            "Epoch 10/20\n",
            "4500/4500 [==============================] - 9s 2ms/step - loss: 0.2892 - acc: 0.8933 - val_loss: 0.3435 - val_acc: 0.8797\n",
            "Epoch 11/20\n",
            "4500/4500 [==============================] - 9s 2ms/step - loss: 0.2817 - acc: 0.8966 - val_loss: 0.3299 - val_acc: 0.8815\n",
            "Epoch 12/20\n",
            "4500/4500 [==============================] - 10s 2ms/step - loss: 0.2733 - acc: 0.8990 - val_loss: 0.3198 - val_acc: 0.8843\n",
            "Epoch 13/20\n",
            "4500/4500 [==============================] - 9s 2ms/step - loss: 0.2662 - acc: 0.9014 - val_loss: 0.3234 - val_acc: 0.8847\n",
            "Epoch 14/20\n",
            "4500/4500 [==============================] - 9s 2ms/step - loss: 0.2580 - acc: 0.9030 - val_loss: 0.3384 - val_acc: 0.8792\n",
            "Epoch 15/20\n",
            "4500/4500 [==============================] - 10s 2ms/step - loss: 0.2529 - acc: 0.9061 - val_loss: 0.3379 - val_acc: 0.8795\n",
            "Epoch 16/20\n",
            "4500/4500 [==============================] - 9s 2ms/step - loss: 0.2476 - acc: 0.9088 - val_loss: 0.3316 - val_acc: 0.8807\n",
            "Epoch 17/20\n",
            "4500/4500 [==============================] - 9s 2ms/step - loss: 0.2402 - acc: 0.9119 - val_loss: 0.3260 - val_acc: 0.8829\n",
            "Epoch 18/20\n",
            "4500/4500 [==============================] - 10s 2ms/step - loss: 0.2352 - acc: 0.9125 - val_loss: 0.3401 - val_acc: 0.8796\n",
            "Epoch 19/20\n",
            "4500/4500 [==============================] - 11s 2ms/step - loss: 0.2307 - acc: 0.9142 - val_loss: 0.3385 - val_acc: 0.8811\n",
            "Epoch 20/20\n",
            "4500/4500 [==============================] - 9s 2ms/step - loss: 0.2248 - acc: 0.9163 - val_loss: 0.3098 - val_acc: 0.8897\n"
          ]
        }
      ]
    },
    {
      "cell_type": "code",
      "metadata": {
        "id": "k6DrN7O_3RD1"
      },
      "source": [
        "# Predicting values for test set\n",
        "predictions = model.predict(x_test)"
      ],
      "execution_count": null,
      "outputs": []
    },
    {
      "cell_type": "code",
      "metadata": {
        "colab": {
          "base_uri": "https://localhost:8080/"
        },
        "id": "8IADR8mQ4k1C",
        "outputId": "4e51c9ac-ef50-4bf9-e367-3dafbbc8da04"
      },
      "source": [
        "model.evaluate(x=x_test, y=Y_test, batch_size=10)"
      ],
      "execution_count": null,
      "outputs": [
        {
          "output_type": "stream",
          "name": "stdout",
          "text": [
            "1000/1000 [==============================] - 1s 1ms/step - loss: 0.3392 - acc: 0.8809\n"
          ]
        },
        {
          "output_type": "execute_result",
          "data": {
            "text/plain": [
              "[0.3391932249069214, 0.8809000253677368]"
            ]
          },
          "metadata": {},
          "execution_count": 15
        }
      ]
    },
    {
      "cell_type": "code",
      "metadata": {
        "colab": {
          "base_uri": "https://localhost:8080/",
          "height": 279
        },
        "id": "Qq_l5Oyn46em",
        "outputId": "98cc6d74-6a87-442b-97c3-20245e97a460"
      },
      "source": [
        "plt.plot(fitted.history['acc'])\n",
        "plt.plot(fitted.history['val_acc'])\n",
        "plt.xlabel('epochs')\n",
        "plt.ylabel('accuracy')\n",
        "plt.legend(['Train', 'Test'])\n",
        "plt.show()"
      ],
      "execution_count": null,
      "outputs": [
        {
          "output_type": "display_data",
          "data": {
            "image/png": "[encoded data removed]",
            "text/plain": [
              "<Figure size 432x288 with 1 Axes>"
            ]
          },
          "metadata": {
            "needs_background": "light"
          }
        }
      ]
    },
    {
      "cell_type": "code",
      "metadata": {
        "colab": {
          "base_uri": "https://localhost:8080/",
          "height": 279
        },
        "id": "F3N3WTly6gx7",
        "outputId": "ba275bd8-0ff3-4577-e438-d14567881bd3"
      },
      "source": [
        "plt.plot(fitted.history['loss'])\n",
        "plt.plot(fitted.history['val_loss'])\n",
        "plt.xlabel('epochs')\n",
        "plt.ylabel('loss')\n",
        "plt.legend(['Train', 'Test'])\n",
        "plt.show()"
      ],
      "execution_count": null,
      "outputs": [
        {
          "output_type": "display_data",
          "data": {
            "image/png": "[encoded data removed]",
            "text/plain": [
              "<Figure size 432x288 with 1 Axes>"
            ]
          },
          "metadata": {
            "needs_background": "light"
          }
        }
      ]
    }
  ]
}