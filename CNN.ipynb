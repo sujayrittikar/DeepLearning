{
  "nbformat": 4,
  "nbformat_minor": 0,
  "metadata": {
    "colab": {
      "name": "CNN.ipynb",
      "provenance": [],
      "authorship_tag": "ABX9TyOoyEYXBv3jSLBI9m5IWxyt",
      "include_colab_link": true
    },
    "kernelspec": {
      "name": "python3",
      "display_name": "Python 3"
    },
    "language_info": {
      "name": "python"
    }
  },
  "cells": [
    {
      "cell_type": "markdown",
      "metadata": {
        "id": "view-in-github",
        "colab_type": "text"
      },
      "source": [
        "<a href=\"https://colab.research.google.com/github/sujayrittikar/DeepLearning/blob/master/CNN.ipynb\" target=\"_parent\"><img src=\"https://colab.research.google.com/assets/colab-badge.svg\" alt=\"Open In Colab\"/></a>"
      ]
    },
    {
      "cell_type": "code",
      "metadata": {
        "id": "70_E-Dz9ESRv"
      },
      "source": [
        "import tensorflow as tf"
      ],
      "execution_count": null,
      "outputs": []
    },
    {
      "cell_type": "code",
      "metadata": {
        "id": "tGm64CugE3vP"
      },
      "source": [
        "cifar = tf.keras.datasets.cifar10"
      ],
      "execution_count": null,
      "outputs": []
    },
    {
      "cell_type": "code",
      "metadata": {
        "id": "gRMsQWN1FRZ4"
      },
      "source": [
        "(x_train, Y_train), (x_test, Y_test) = cifar.load_data()"
      ],
      "execution_count": null,
      "outputs": []
    },
    {
      "cell_type": "code",
      "metadata": {
        "colab": {
          "base_uri": "https://localhost:8080/"
        },
        "id": "E2wO2kG0FVvY",
        "outputId": "e9bf850f-ca04-4477-c2db-33b2c6054b7a"
      },
      "source": [
        "print(\"Shape of x train: \", x_train.shape)\n",
        "print(\"Shape of Y train: \", Y_train.shape)\n",
        "print(\"Shape of x test: \", x_test.shape)\n",
        "print(\"Shape of Y test: \", Y_test.shape)"
      ],
      "execution_count": null,
      "outputs": [
        {
          "output_type": "stream",
          "name": "stdout",
          "text": [
            "Shape of x train:  (50000, 32, 32, 3)\n",
            "Shape of Y train:  (50000, 1)\n",
            "Shape of x test:  (10000, 32, 32, 3)\n",
            "Shape of Y test:  (10000, 1)\n"
          ]
        }
      ]
    },
    {
      "cell_type": "code",
      "metadata": {
        "id": "mXoZVlOwFiBw"
      },
      "source": [
        "# Scaling x\n",
        "x_train = x_train/255.0\n",
        "x_test = x_test/255.0"
      ],
      "execution_count": null,
      "outputs": []
    },
    {
      "cell_type": "code",
      "metadata": {
        "colab": {
          "base_uri": "https://localhost:8080/"
        },
        "id": "rYwsIbBXF5d0",
        "outputId": "17c70ebc-401d-458b-e50f-9b3d03c2d27d"
      },
      "source": [
        "x_train[0].shape"
      ],
      "execution_count": null,
      "outputs": [
        {
          "output_type": "execute_result",
          "data": {
            "text/plain": [
              "(32, 32, 3)"
            ]
          },
          "metadata": {},
          "execution_count": 17
        }
      ]
    },
    {
      "cell_type": "code",
      "metadata": {
        "id": "gd5af-24GAXH"
      },
      "source": [
        "# Making y encoded\n",
        "Y_train = tf.keras.utils.to_categorical(Y_train)\n",
        "Y_test = tf.keras.utils.to_categorical(Y_test)"
      ],
      "execution_count": null,
      "outputs": []
    },
    {
      "cell_type": "code",
      "metadata": {
        "colab": {
          "base_uri": "https://localhost:8080/",
          "height": 266
        },
        "id": "R6lYJtqiHxf1",
        "outputId": "290462a6-4b8a-4fed-9c25-7c19111810e6"
      },
      "source": [
        "import matplotlib.pyplot as plt\n",
        "plt.imshow(x_train[0])\n",
        "plt.show()"
      ],
      "execution_count": null,
      "outputs": [
        {
          "output_type": "display_data",
          "data": {
            "image/png": "[encoded data removed]",
            "text/plain": [
              "<Figure size 432x288 with 1 Axes>"
            ]
          },
          "metadata": {
            "needs_background": "light"
          }
        }
      ]
    },
    {
      "cell_type": "code",
      "metadata": {
        "colab": {
          "base_uri": "https://localhost:8080/"
        },
        "id": "Bml-n1LsGT_n",
        "outputId": "c6745f54-a8aa-4850-9714-677bde01bfd0"
      },
      "source": [
        "# Building the CNN\n",
        "model = tf.keras.models.Sequential()\n",
        "model.add(tf.keras.layers.InputLayer(input_shape=(32, 32, 3)))\n",
        "model.add(tf.keras.layers.Conv2D(filters=10, kernel_size=3, strides=(1, 1), padding='valid', activation='relu'))\n",
        "model.add(tf.keras.layers.MaxPool2D(pool_size=(2,2)))\n",
        "model.add(tf.keras.layers.Conv2D(filters=10, kernel_size=3, strides=(1, 1), padding='valid', activation='relu'))\n",
        "model.add(tf.keras.layers.MaxPool2D(pool_size=(2,2)))\n",
        "model.add(tf.keras.layers.Conv2D(filters=10, kernel_size=3, strides=(1, 1), padding='valid', activation='relu'))\n",
        "model.add(tf.keras.layers.MaxPool2D(pool_size=(2,2)))\n",
        "model.add(tf.keras.layers.Flatten())\n",
        "model.add(tf.keras.layers.Dense(128, activation=\"relu\"))\n",
        "model.add(tf.keras.layers.Dense(64, activation=\"relu\"))\n",
        "model.add(tf.keras.layers.Dense(32, activation=\"relu\"))\n",
        "model.add(tf.keras.layers.Dense(10, activation=\"softmax\"))\n",
        "model.summary()"
      ],
      "execution_count": null,
      "outputs": [
        {
          "output_type": "stream",
          "name": "stdout",
          "text": [
            "Model: \"sequential_1\"\n",
            "_________________________________________________________________\n",
            "Layer (type)                 Output Shape              Param #   \n",
            "=================================================================\n",
            "conv2d_1 (Conv2D)            (None, 30, 30, 10)        280       \n",
            "_________________________________________________________________\n",
            "max_pooling2d (MaxPooling2D) (None, 15, 15, 10)        0         \n",
            "_________________________________________________________________\n",
            "conv2d_2 (Conv2D)            (None, 13, 13, 10)        910       \n",
            "_________________________________________________________________\n",
            "max_pooling2d_1 (MaxPooling2 (None, 6, 6, 10)          0         \n",
            "_________________________________________________________________\n",
            "conv2d_3 (Conv2D)            (None, 4, 4, 10)          910       \n",
            "_________________________________________________________________\n",
            "max_pooling2d_2 (MaxPooling2 (None, 2, 2, 10)          0         \n",
            "_________________________________________________________________\n",
            "flatten (Flatten)            (None, 40)                0         \n",
            "_________________________________________________________________\n",
            "dense (Dense)                (None, 128)               5248      \n",
            "_________________________________________________________________\n",
            "dense_1 (Dense)              (None, 64)                8256      \n",
            "_________________________________________________________________\n",
            "dense_2 (Dense)              (None, 32)                2080      \n",
            "_________________________________________________________________\n",
            "dense_3 (Dense)              (None, 10)                330       \n",
            "=================================================================\n",
            "Total params: 18,014\n",
            "Trainable params: 18,014\n",
            "Non-trainable params: 0\n",
            "_________________________________________________________________\n"
          ]
        }
      ]
    },
    {
      "cell_type": "code",
      "metadata": {
        "id": "EBELTx9JHfST"
      },
      "source": [
        "model.compile(optimizer=\"adam\", loss=tf.keras.losses.categorical_crossentropy, metrics=['acc'])"
      ],
      "execution_count": null,
      "outputs": []
    },
    {
      "cell_type": "code",
      "metadata": {
        "colab": {
          "base_uri": "https://localhost:8080/"
        },
        "id": "Qld7ikkrJpW4",
        "outputId": "413e3fcd-5803-49b2-8c21-39912bb837dc"
      },
      "source": [
        "fitted = model.fit(x=x_train, y=Y_train, batch_size=10, epochs=10, validation_split=0.25)"
      ],
      "execution_count": null,
      "outputs": [
        {
          "output_type": "stream",
          "name": "stdout",
          "text": [
            "Epoch 1/10\n",
            "3750/3750 [==============================] - 41s 11ms/step - loss: 1.7953 - acc: 0.3315 - val_loss: 1.6119 - val_acc: 0.4002\n",
            "Epoch 2/10\n",
            "3750/3750 [==============================] - 39s 11ms/step - loss: 1.5395 - acc: 0.4361 - val_loss: 1.4942 - val_acc: 0.4537\n",
            "Epoch 3/10\n",
            "3750/3750 [==============================] - 40s 11ms/step - loss: 1.4639 - acc: 0.4667 - val_loss: 1.4829 - val_acc: 0.4586\n",
            "Epoch 4/10\n",
            "3750/3750 [==============================] - 41s 11ms/step - loss: 1.4173 - acc: 0.4867 - val_loss: 1.4486 - val_acc: 0.4767\n",
            "Epoch 5/10\n",
            "3750/3750 [==============================] - 41s 11ms/step - loss: 1.3798 - acc: 0.5020 - val_loss: 1.3657 - val_acc: 0.5114\n",
            "Epoch 6/10\n",
            "3750/3750 [==============================] - 42s 11ms/step - loss: 1.3446 - acc: 0.5129 - val_loss: 1.3597 - val_acc: 0.5098\n",
            "Epoch 7/10\n",
            "3750/3750 [==============================] - 41s 11ms/step - loss: 1.3137 - acc: 0.5248 - val_loss: 1.3630 - val_acc: 0.5100\n",
            "Epoch 8/10\n",
            "3750/3750 [==============================] - 41s 11ms/step - loss: 1.2959 - acc: 0.5308 - val_loss: 1.3679 - val_acc: 0.5058\n",
            "Epoch 9/10\n",
            "3750/3750 [==============================] - 42s 11ms/step - loss: 1.2727 - acc: 0.5389 - val_loss: 1.3157 - val_acc: 0.5267\n",
            "Epoch 10/10\n",
            "3750/3750 [==============================] - 43s 12ms/step - loss: 1.2569 - acc: 0.5488 - val_loss: 1.3024 - val_acc: 0.5297\n"
          ]
        }
      ]
    },
    {
      "cell_type": "code",
      "metadata": {
        "id": "IkHkzYbfK6n3"
      },
      "source": [
        "predictions = model.predict(x_test, batch_size=10)"
      ],
      "execution_count": null,
      "outputs": []
    },
    {
      "cell_type": "code",
      "metadata": {
        "colab": {
          "base_uri": "https://localhost:8080/"
        },
        "id": "37AO-tALMwFf",
        "outputId": "aea832aa-ff94-4773-b82b-75a8faac568e"
      },
      "source": [
        "model.evaluate(x_test, Y_test, batch_size=10)"
      ],
      "execution_count": null,
      "outputs": [
        {
          "output_type": "stream",
          "name": "stdout",
          "text": [
            "1000/1000 [==============================] - 4s 4ms/step - loss: 1.2977 - acc: 0.5305\n"
          ]
        },
        {
          "output_type": "execute_result",
          "data": {
            "text/plain": [
              "[1.2977021932601929, 0.5304999947547913]"
            ]
          },
          "metadata": {},
          "execution_count": 24
        }
      ]
    },
    {
      "cell_type": "code",
      "metadata": {
        "colab": {
          "base_uri": "https://localhost:8080/",
          "height": 279
        },
        "id": "5DqFy8L5M2IG",
        "outputId": "3ef601dc-1d06-4e56-aed2-5f81f9159481"
      },
      "source": [
        "plt.plot(fitted.history['acc'])\n",
        "plt.plot(fitted.history['val_acc'])\n",
        "plt.xlabel(\"Epochs\")\n",
        "plt.ylabel(\"Accuracy\")\n",
        "plt.show()"
      ],
      "execution_count": null,
      "outputs": [
        {
          "output_type": "display_data",
          "data": {
            "image/png": "[encoded data removed]",
            "text/plain": [
              "<Figure size 432x288 with 1 Axes>"
            ]
          },
          "metadata": {
            "needs_background": "light"
          }
        }
      ]
    },
    {
      "cell_type": "code",
      "metadata": {
        "colab": {
          "base_uri": "https://localhost:8080/",
          "height": 279
        },
        "id": "45QVfxyuNDi7",
        "outputId": "d56cae5b-eea4-45df-f68f-dcafa66bb932"
      },
      "source": [
        "plt.plot(fitted.history['loss'])\n",
        "plt.plot(fitted.history['val_loss'])\n",
        "plt.xlabel(\"Epochs\")\n",
        "plt.ylabel(\"Loss\")\n",
        "plt.show()"
      ],
      "execution_count": null,
      "outputs": [
        {
          "output_type": "display_data",
          "data": {
            "image/png": "[encoded data removed]",
            "text/plain": [
              "<Figure size 432x288 with 1 Axes>"
            ]
          },
          "metadata": {
            "needs_background": "light"
          }
        }
      ]
    }
  ]
}